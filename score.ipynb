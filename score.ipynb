{
 "cells": [
  {
   "cell_type": "code",
   "execution_count": null,
   "metadata": {},
   "outputs": [],
   "source": [
    "import pandas as pd\n",
    "import os"
   ]
  },
  {
   "cell_type": "code",
   "execution_count": null,
   "metadata": {},
   "outputs": [],
   "source": [
    "model = \"miqu-1-70b-GGUF\"\n",
    "d = f\"results/results_{model}\"\n",
    "categories = []\n",
    "n_corr = []\n",
    "print(len(os.listdir(d)))\n",
    "for f in sorted(os.listdir(d)):\n",
    "    df = pd.read_csv(f\"{d}/{f}\")\n",
    "    categories.append(f[:-4])\n",
    "    n_corr.append([len(df), df[f\"{model}_correct\"].sum()])\n",
    "df0 = pd.DataFrame(n_corr, index=categories, columns=[\"num questions\", \"num correct\"])\n",
    "df0.loc[\"total\"] = df0.sum(axis=0)\n",
    "df0[\"score\"] = df0[\"num correct\"] / df0[\"num questions\"]\n",
    "df0\n"
   ]
  },
  {
   "cell_type": "code",
   "execution_count": null,
   "metadata": {},
   "outputs": [],
   "source": [
    "model = \"miqu-1-70b-AQLM\"\n",
    "d = f\"results/results_{model}\"\n",
    "categories = []\n",
    "n_corr = []\n",
    "print(len(os.listdir(d)))\n",
    "for f in sorted(os.listdir(d)):\n",
    "    df = pd.read_csv(f\"{d}/{f}\")\n",
    "    categories.append(f[:-4])\n",
    "    n_corr.append([len(df), df[f\"{model}_correct\"].sum()])\n",
    "df1 = pd.DataFrame(n_corr, index=categories, columns=[\"num questions\", \"num correct\"])\n",
    "df1.loc[\"total\"] = df1.sum(axis=0)\n",
    "df1[\"score\"] = df1[\"num correct\"] / df1[\"num questions\"]\n",
    "df1"
   ]
  },
  {
   "cell_type": "code",
   "execution_count": null,
   "metadata": {},
   "outputs": [],
   "source": [
    "df2 = df0.join(df1, lsuffix=\"_GGUF\", rsuffix=\"_AQLM\")\n",
    "df2[\"diff\"] = df2[\"score_AQLM\"] / df2[\"score_GGUF\"] - 1\n",
    "df2 = df2.sort_values(\"diff\")\n",
    "df2 = df2.loc[df2.index.drop(\"total\").to_list() + [\"total\"]]\n",
    "df2.iloc[:30]"
   ]
  },
  {
   "cell_type": "code",
   "execution_count": null,
   "metadata": {},
   "outputs": [],
   "source": [
    "df2.iloc[30:]"
   ]
  },
  {
   "cell_type": "code",
   "execution_count": null,
   "metadata": {},
   "outputs": [],
   "source": []
  }
 ],
 "metadata": {
  "kernelspec": {
   "display_name": "eval",
   "language": "python",
   "name": "python3"
  },
  "language_info": {
   "codemirror_mode": {
    "name": "ipython",
    "version": 3
   },
   "file_extension": ".py",
   "mimetype": "text/x-python",
   "name": "python",
   "nbconvert_exporter": "python",
   "pygments_lexer": "ipython3",
   "version": "3.11.8"
  }
 },
 "nbformat": 4,
 "nbformat_minor": 2
}
